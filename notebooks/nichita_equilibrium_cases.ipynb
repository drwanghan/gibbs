{
 "cells": [
  {
   "cell_type": "code",
   "execution_count": 1,
   "metadata": {},
   "outputs": [],
   "source": [
    "import attr\n",
    "import numpy as np\n",
    "from thermo import Chemical\n",
    "import warnings\n",
    "\n",
    "from gibbs.models.ceos import PengRobinson, SoaveRedlichKwong\n",
    "from gibbs.mixture import Mixture\n",
    "from gibbs.stability_analysis import stability_test\n",
    "from gibbs.equilibrium import calculate_equilibrium\n",
    "from gibbs.utilities import convert_bar_to_Pa, convert_atm_to_Pa\n",
    "\n",
    "warnings.filterwarnings('ignore')"
   ]
  },
  {
   "cell_type": "code",
   "execution_count": 2,
   "metadata": {},
   "outputs": [],
   "source": [
    "@attr.s(auto_attribs=True)\n",
    "class NichitaPR:\n",
    "    mixture: Mixture\n",
    "    bip: np.ndarray\n",
    "\n",
    "    @property\n",
    "    def model(self):\n",
    "        return PengRobinson(\n",
    "            mixture=self.mixture,\n",
    "            bip=self.bip\n",
    "        )\n",
    "\n",
    "    @property\n",
    "    def number_of_components(self):\n",
    "        return len(self.mixture.z)\n",
    "\n",
    "    def fugacity(self, P, T, z):\n",
    "        Z_factor = self.calculate_Z(P, T, z)\n",
    "        return self.model.calculate_fugacity(P, T, z, Z_factor)\n",
    "\n",
    "    def calculate_Z(self, P, T, z):\n",
    "        Z_factor = self.model.calculate_Z_minimal_energy(P, T, z)\n",
    "        return Z_factor"
   ]
  },
  {
   "cell_type": "markdown",
   "metadata": {},
   "source": [
    "## Two-phase vapor-liquid equilibria"
   ]
  },
  {
   "cell_type": "markdown",
   "metadata": {},
   "source": [
    "### Eight-component mixture"
   ]
  },
  {
   "cell_type": "code",
   "execution_count": 3,
   "metadata": {},
   "outputs": [],
   "source": [
    "methane = Chemical('methane')\n",
    "ethane = Chemical('ethane')\n",
    "propane = Chemical('propane')\n",
    "nbutane = Chemical('n-butane')\n",
    "npentane = Chemical('n-pentane')\n",
    "nhexane = Chemical('n-hexane')"
   ]
  },
  {
   "cell_type": "code",
   "execution_count": 4,
   "metadata": {},
   "outputs": [],
   "source": [
    "z = np.array([0.6883, 0.0914, 0.0460, 0.0333, 0.0139, 0.0152, 0.0896, 0.0222])\n",
    "omegas = np.array([methane.omega, ethane.omega, propane.omega, nbutane.omega, npentane.omega, nhexane.omega, 0.4019, 0.7987])\n",
    "Tcs = np.array([methane.Tc, ethane.Tc, propane.Tc, nbutane.Tc, npentane.Tc, nhexane.Tc, 606.28, 825.67])\n",
    "Pcs = np.array([methane.Pc, ethane.Pc, propane.Pc, nbutane.Pc, npentane.Pc, nhexane.Pc, convert_atm_to_Pa(25.42), convert_atm_to_Pa(14.39)])\n",
    "mixture = Mixture(z, Tcs, Pcs, omegas)\n",
    "kijs = np.zeros((8, 8))\n",
    "kijs[0, 6] = kijs[6, 0] = 0.050\n",
    "kijs[1, 6] = kijs[6, 1] = 0.040\n",
    "kijs[2, 6] = kijs[6, 2] = 0.010\n",
    "kijs[0, 7] = kijs[7, 0] = 0.090\n",
    "kijs[1, 7] = kijs[7, 1] = 0.055\n",
    "kijs[2, 7] = kijs[7, 2] = 0.010\n",
    "\n",
    "model = NichitaPR(\n",
    "    mixture=mixture,\n",
    "    bip=kijs\n",
    ")"
   ]
  },
  {
   "cell_type": "code",
   "execution_count": 5,
   "metadata": {},
   "outputs": [
    {
     "data": {
      "text/plain": [
       "(array([[0.72749981, 0.09232553, 0.04438932, 0.03055919, 0.01228681,\n",
       "         0.01388148, 0.06909989, 0.00995797],\n",
       "        [0.63821046, 0.09023451, 0.04807507, 0.03682079, 0.01597097,\n",
       "         0.01689356, 0.11589764, 0.037897  ]]),\n",
       " array([0.56169476, 0.43820524]),\n",
       " 15.212011247708197,\n",
       " 38.5)"
      ]
     },
     "execution_count": 5,
     "metadata": {},
     "output_type": "execute_result"
    }
   ],
   "source": [
    "T = 353\n",
    "P = convert_bar_to_Pa(385)\n",
    "\n",
    "x_sol, phase_fractions, reduced_gibbs = calculate_equilibrium(model, P, T, z, molar_base=1, number_of_trial_phases=2, workers=-1)\n",
    "\n",
    "x_sol, phase_fractions, reduced_gibbs, P / 1e6"
   ]
  },
  {
   "cell_type": "markdown",
   "metadata": {},
   "source": [
    "## Three-phase vapor-liquid-liquid equilibria"
   ]
  },
  {
   "cell_type": "markdown",
   "metadata": {},
   "source": [
    "### Case 4.3.1: Ternary mixture C$_1$/nC$_{16}$/CO$_2$"
   ]
  },
  {
   "cell_type": "code",
   "execution_count": 6,
   "metadata": {},
   "outputs": [],
   "source": [
    "nhexadecane = Chemical('n-hexadecane')\n",
    "carbon_dioxide = Chemical('carbon-dioxide')"
   ]
  },
  {
   "cell_type": "code",
   "execution_count": 7,
   "metadata": {},
   "outputs": [],
   "source": [
    "z = np.array([0.05, 0.05, 0.90])\n",
    "omegas = np.array([methane.omega, nhexadecane.omega, carbon_dioxide.omega])\n",
    "Tcs = np.array([methane.Tc, nhexadecane.Tc, carbon_dioxide.Tc])\n",
    "Pcs = np.array([methane.Pc, nhexadecane.Pc, carbon_dioxide.Pc])\n",
    "mixture = Mixture(z, Tcs, Pcs, omegas)\n",
    "kijs = np.array([\n",
    "    [0.000, 0.078, 0.100],\n",
    "    [0.078, 0.000, 0.125],\n",
    "    [0.100, 0.125, 0.000]\n",
    "])\n",
    "\n",
    "model = NichitaPR(\n",
    "    mixture=mixture,\n",
    "    bip=kijs\n",
    ")"
   ]
  },
  {
   "cell_type": "code",
   "execution_count": 8,
   "metadata": {},
   "outputs": [
    {
     "data": {
      "text/plain": [
       "(array([[2.72362691e-02, 3.62256609e-01, 6.10507122e-01],\n",
       "        [7.68878611e-02, 8.87463642e-05, 9.23023393e-01],\n",
       "        [3.67580709e-02, 2.99204204e-03, 9.60249887e-01]]),\n",
       " array([0.13376808, 0.36171737, 0.50451455]),\n",
       " 14.245426584043965)"
      ]
     },
     "execution_count": 8,
     "metadata": {},
     "output_type": "execute_result"
    }
   ],
   "source": [
    "T = 294.3\n",
    "P = convert_bar_to_Pa(67)\n",
    "\n",
    "x_sol, phase_fractions, reduced_gibbs = calculate_equilibrium(model, P, T, z, molar_base=1, number_of_trial_phases=3, workers=-1)\n",
    "\n",
    "x_sol, phase_fractions, reduced_gibbs"
   ]
  }
 ],
 "metadata": {
  "kernelspec": {
   "display_name": "Python 3",
   "language": "python",
   "name": "python3"
  },
  "language_info": {
   "codemirror_mode": {
    "name": "ipython",
    "version": 3
   },
   "file_extension": ".py",
   "mimetype": "text/x-python",
   "name": "python",
   "nbconvert_exporter": "python",
   "pygments_lexer": "ipython3",
   "version": "3.6.7"
  }
 },
 "nbformat": 4,
 "nbformat_minor": 2
}

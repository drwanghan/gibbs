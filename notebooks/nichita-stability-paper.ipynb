{
 "cells": [
  {
   "cell_type": "code",
   "execution_count": 1,
   "metadata": {},
   "outputs": [],
   "source": [
    "import attr\n",
    "import numpy as np\n",
    "from thermo import Chemical\n",
    "import warnings\n",
    "\n",
    "from gibbs.models.ceos import PengRobinson78, SoaveRedlichKwong\n",
    "from gibbs.mixture import Mixture\n",
    "from gibbs.stability_analysis import stability_test\n",
    "from gibbs.utilities import convert_bar_to_Pa\n",
    "\n",
    "warnings.filterwarnings('ignore')"
   ]
  },
  {
   "cell_type": "markdown",
   "metadata": {},
   "source": [
    "## Loading the thermodynamic models (cubic EoSs)"
   ]
  },
  {
   "cell_type": "code",
   "execution_count": 2,
   "metadata": {},
   "outputs": [],
   "source": [
    "@attr.s(auto_attribs=True)\n",
    "class NichitaPR:\n",
    "    z: np.ndarray\n",
    "    Tc: np.ndarray\n",
    "    Pc: np.ndarray\n",
    "    acentric_factor: np.ndarray\n",
    "    bip: np.ndarray\n",
    "        \n",
    "    @property\n",
    "    def mixture(self):\n",
    "        return Mixture(\n",
    "            z=self.z, \n",
    "            Tc=self.Tc, \n",
    "            Pc=self.Pc, \n",
    "            acentric_factor=self.acentric_factor\n",
    "        )\n",
    "\n",
    "    @property\n",
    "    def model(self):\n",
    "        return PengRobinson78(\n",
    "            mixture=self.mixture,\n",
    "            bip=self.bip\n",
    "        )\n",
    "\n",
    "    @property\n",
    "    def number_of_components(self):\n",
    "        return len(self.z)\n",
    "\n",
    "    def fugacity(self, P, T, z):\n",
    "        Z_factor = self.calculate_Z(P, T, z)\n",
    "        return self.model.calculate_fugacity(P, T, z, Z_factor)\n",
    "\n",
    "    def calculate_Z(self, P, T, z):\n",
    "        Z_factor = self.model.calculate_Z_minimal_energy(P, T, z)\n",
    "        return Z_factor\n",
    "    \n",
    "    \n",
    "@attr.s(auto_attribs=True)\n",
    "class NichitaSRK:\n",
    "    z: np.ndarray\n",
    "    Tc: np.ndarray\n",
    "    Pc: np.ndarray\n",
    "    acentric_factor: np.ndarray\n",
    "    bip: np.ndarray\n",
    "        \n",
    "    @property\n",
    "    def mixture(self):\n",
    "        return Mixture(\n",
    "            z=self.z, \n",
    "            Tc=self.Tc, \n",
    "            Pc=self.Pc, \n",
    "            acentric_factor=self.acentric_factor\n",
    "        )\n",
    "\n",
    "    @property\n",
    "    def model(self):\n",
    "        return SoaveRedlichKwong(\n",
    "            mixture=self.mixture,\n",
    "            bip=self.bip\n",
    "        )\n",
    "\n",
    "    @property\n",
    "    def number_of_components(self):\n",
    "        return len(self.z)\n",
    "\n",
    "    def fugacity(self, P, T, z):\n",
    "        Z_factor = self.calculate_Z(P, T, z)\n",
    "        return self.model.calculate_fugacity(P, T, z, Z_factor)\n",
    "\n",
    "    def calculate_Z(self, P, T, z):\n",
    "        Z_factor = self.model.calculate_Z_minimal_energy(P, T, z)\n",
    "        return Z_factor"
   ]
  },
  {
   "cell_type": "markdown",
   "metadata": {},
   "source": [
    "## Case 1 (Problem 5)"
   ]
  },
  {
   "cell_type": "code",
   "execution_count": 3,
   "metadata": {},
   "outputs": [],
   "source": [
    "methane = Chemical('methane')\n",
    "ethane = Chemical('ethane')\n",
    "nitrogen = Chemical('nitrogen')"
   ]
  },
  {
   "cell_type": "markdown",
   "metadata": {},
   "source": [
    "* Feed composition 1:"
   ]
  },
  {
   "cell_type": "code",
   "execution_count": 4,
   "metadata": {},
   "outputs": [],
   "source": [
    "z = np.array([0.10, 0.60, 0.30])\n",
    "omegas = np.array([methane.omega, ethane.omega, nitrogen.omega])\n",
    "Tcs = np.array([methane.Tc, ethane.Tc, nitrogen.Tc])\n",
    "Pcs = np.array([methane.Pc, ethane.Pc, nitrogen.Pc])\n",
    "kijs = np.array([\n",
    "    [0.000, 0.021, 0.038],\n",
    "    [0.021, 0.000, 0.080],\n",
    "    [0.038, 0.080, 0.000]\n",
    "])\n",
    "model = NichitaPR(\n",
    "    z=z,\n",
    "    Tc=Tcs,\n",
    "    Pc=Pcs,\n",
    "    acentric_factor=omegas, \n",
    "    bip=kijs\n",
    ")"
   ]
  },
  {
   "cell_type": "code",
   "execution_count": 5,
   "metadata": {},
   "outputs": [
    {
     "data": {
      "text/plain": [
       "(True, array([0.06792845, 0.79846824, 0.1336033 ]))"
      ]
     },
     "execution_count": 5,
     "metadata": {},
     "output_type": "execute_result"
    }
   ],
   "source": [
    "P = 7.6e6\n",
    "T = 270\n",
    "\n",
    "result = stability_test(model, P, T, z)\n",
    "\n",
    "result.phase_split, result.x"
   ]
  },
  {
   "cell_type": "markdown",
   "metadata": {},
   "source": [
    "* Feed composition 2:"
   ]
  },
  {
   "cell_type": "code",
   "execution_count": 6,
   "metadata": {},
   "outputs": [],
   "source": [
    "z = np.array([0.30, 0.55, 0.15])\n",
    "model = NichitaPR(\n",
    "    z=z,\n",
    "    Tc=Tcs,\n",
    "    Pc=Pcs,\n",
    "    acentric_factor=omegas, \n",
    "    bip=kijs\n",
    ")"
   ]
  },
  {
   "cell_type": "code",
   "execution_count": 7,
   "metadata": {},
   "outputs": [
    {
     "data": {
      "text/plain": [
       "(True, array([0.24567754, 0.65703817, 0.09728428]))"
      ]
     },
     "execution_count": 7,
     "metadata": {},
     "output_type": "execute_result"
    }
   ],
   "source": [
    "result = stability_test(model, P, T, z)\n",
    "\n",
    "result.phase_split, result.x"
   ]
  },
  {
   "cell_type": "markdown",
   "metadata": {},
   "source": [
    "* Feed composition 3:"
   ]
  },
  {
   "cell_type": "code",
   "execution_count": 8,
   "metadata": {},
   "outputs": [],
   "source": [
    "z = np.array([0.38, 0.54, 0.08])\n",
    "model = NichitaPR(\n",
    "    z=z,\n",
    "    Tc=Tcs,\n",
    "    Pc=Pcs,\n",
    "    acentric_factor=omegas, \n",
    "    bip=kijs\n",
    ")"
   ]
  },
  {
   "cell_type": "code",
   "execution_count": 9,
   "metadata": {},
   "outputs": [
    {
     "data": {
      "text/plain": [
       "(False, array([0.38000792, 0.53998839, 0.08000369]))"
      ]
     },
     "execution_count": 9,
     "metadata": {},
     "output_type": "execute_result"
    }
   ],
   "source": [
    "result = stability_test(model, P, T, z)\n",
    "\n",
    "result.phase_split, result.x"
   ]
  },
  {
   "cell_type": "markdown",
   "metadata": {},
   "source": [
    "* Feed composition 4:"
   ]
  },
  {
   "cell_type": "code",
   "execution_count": 10,
   "metadata": {},
   "outputs": [],
   "source": [
    "z = np.array([0.05, 0.90, 0.05])\n",
    "model = NichitaPR(\n",
    "    z=z,\n",
    "    Tc=Tcs,\n",
    "    Pc=Pcs,\n",
    "    acentric_factor=omegas, \n",
    "    bip=kijs\n",
    ")"
   ]
  },
  {
   "cell_type": "code",
   "execution_count": 11,
   "metadata": {},
   "outputs": [
    {
     "data": {
      "text/plain": [
       "(False, array([0.04999998, 0.90000013, 0.04999989]))"
      ]
     },
     "execution_count": 11,
     "metadata": {},
     "output_type": "execute_result"
    }
   ],
   "source": [
    "result = stability_test(model, P, T, z)\n",
    "\n",
    "result.phase_split, result.x"
   ]
  },
  {
   "cell_type": "markdown",
   "metadata": {},
   "source": [
    "## Case 2: Yarborough 8 mixture\n",
    "\n",
    "There is something wrong or missing in this case!"
   ]
  },
  {
   "cell_type": "code",
   "execution_count": 12,
   "metadata": {},
   "outputs": [],
   "source": [
    "propane = Chemical('propane')\n",
    "pentane = Chemical('n-pentane')\n",
    "heptane = Chemical('heptane')\n",
    "decane = Chemical('n-decane')"
   ]
  },
  {
   "cell_type": "code",
   "execution_count": 13,
   "metadata": {},
   "outputs": [],
   "source": [
    "z = np.array([0.8097, 0.0566, 0.0306, 0.0457, 0.0330, 0.0244])\n",
    "omegas = np.array([\n",
    "    methane.omega, \n",
    "    ethane.omega, \n",
    "    propane.omega,\n",
    "    pentane.omega,\n",
    "    heptane.omega,\n",
    "    decane.omega\n",
    "])\n",
    "Tcs = np.array([\n",
    "    methane.Tc, \n",
    "    ethane.Tc, \n",
    "    propane.Tc,\n",
    "    pentane.Tc,\n",
    "    heptane.Tc,\n",
    "    decane.Tc\n",
    "])\n",
    "Pcs = np.array([\n",
    "    methane.Pc, \n",
    "    ethane.Pc, \n",
    "    propane.Pc,\n",
    "    pentane.Pc,\n",
    "    heptane.Pc,\n",
    "    decane.Pc\n",
    "])\n",
    "kijs = np.zeros((len(Pcs), len(Pcs)))\n",
    "model = NichitaPR(\n",
    "    z=z,\n",
    "    Tc=Tcs,\n",
    "    Pc=Pcs,\n",
    "    acentric_factor=omegas, \n",
    "    bip=kijs\n",
    ")"
   ]
  },
  {
   "cell_type": "markdown",
   "metadata": {},
   "source": [
    "* Condition 1:"
   ]
  },
  {
   "cell_type": "code",
   "execution_count": 14,
   "metadata": {},
   "outputs": [
    {
     "data": {
      "text/plain": [
       "(False, array([0.80969155, 0.05660063, 0.03060073, 0.04570221, 0.03300237,\n",
       "        0.02440251]))"
      ]
     },
     "execution_count": 14,
     "metadata": {},
     "output_type": "execute_result"
    }
   ],
   "source": [
    "P = convert_bar_to_Pa(210)  # in Pa\n",
    "T = 293.78\n",
    "\n",
    "result = stability_test(model, P, T, z)\n",
    "\n",
    "result.phase_split, result.x"
   ]
  },
  {
   "cell_type": "markdown",
   "metadata": {},
   "source": [
    "* Condition 2:"
   ]
  },
  {
   "cell_type": "code",
   "execution_count": 15,
   "metadata": {},
   "outputs": [
    {
     "data": {
      "text/plain": [
       "(False, array([0.80969525, 0.05660019, 0.03060041, 0.04570129, 0.03300139,\n",
       "        0.02440147]))"
      ]
     },
     "execution_count": 15,
     "metadata": {},
     "output_type": "execute_result"
    }
   ],
   "source": [
    "P = convert_bar_to_Pa(210.66)  # in Pa\n",
    "T = 293.78\n",
    "\n",
    "result = stability_test(model, P, T, z)\n",
    "\n",
    "result.phase_split, result.x"
   ]
  },
  {
   "cell_type": "markdown",
   "metadata": {},
   "source": [
    "* Condition 3:"
   ]
  },
  {
   "cell_type": "code",
   "execution_count": 16,
   "metadata": {},
   "outputs": [
    {
     "data": {
      "text/plain": [
       "(False, array([0.80969595, 0.05660023, 0.03060035, 0.04570115, 0.03300116,\n",
       "        0.02440116]))"
      ]
     },
     "execution_count": 16,
     "metadata": {},
     "output_type": "execute_result"
    }
   ],
   "source": [
    "P = convert_bar_to_Pa(210.67)  # in Pa\n",
    "T = 293.78\n",
    "\n",
    "result = stability_test(model, P, T, z)\n",
    "\n",
    "result.phase_split, result.x"
   ]
  },
  {
   "cell_type": "markdown",
   "metadata": {},
   "source": [
    "* Condition 4:"
   ]
  },
  {
   "cell_type": "code",
   "execution_count": 17,
   "metadata": {},
   "outputs": [
    {
     "data": {
      "text/plain": [
       "(False, array([0.80969877, 0.0566    , 0.03060022, 0.04570029, 0.03300036,\n",
       "        0.02440038]))"
      ]
     },
     "execution_count": 17,
     "metadata": {},
     "output_type": "execute_result"
    }
   ],
   "source": [
    "P = convert_bar_to_Pa(215)  # in Pa\n",
    "T = 293.78\n",
    "\n",
    "result = stability_test(model, P, T, z)\n",
    "\n",
    "result.phase_split, result.x"
   ]
  },
  {
   "cell_type": "markdown",
   "metadata": {},
   "source": [
    "## Case 3 (Problem 1)"
   ]
  },
  {
   "cell_type": "code",
   "execution_count": 18,
   "metadata": {},
   "outputs": [],
   "source": [
    "methane = Chemical('methane')\n",
    "hydrogen_sulfide = Chemical('H2S')"
   ]
  },
  {
   "cell_type": "markdown",
   "metadata": {},
   "source": [
    "* Feed composition 1:"
   ]
  },
  {
   "cell_type": "code",
   "execution_count": 19,
   "metadata": {},
   "outputs": [],
   "source": [
    "z = np.array([0.5, 0.5])\n",
    "omegas = np.array([methane.omega, hydrogen_sulfide.omega])\n",
    "Tcs = np.array([methane.Tc, hydrogen_sulfide.Tc])\n",
    "Pcs = np.array([methane.Pc, hydrogen_sulfide.Pc])\n",
    "kijs = np.array([\n",
    "    [0.000, 0.080],\n",
    "    [0.080, 0.000]\n",
    "])\n",
    "model = NichitaSRK(\n",
    "    z=z,\n",
    "    Tc=Tcs,\n",
    "    Pc=Pcs,\n",
    "    acentric_factor=omegas, \n",
    "    bip=kijs\n",
    ")"
   ]
  },
  {
   "cell_type": "code",
   "execution_count": 20,
   "metadata": {},
   "outputs": [
    {
     "data": {
      "text/plain": [
       "(True, array([0.92558986, 0.07441014]))"
      ]
     },
     "execution_count": 20,
     "metadata": {},
     "output_type": "execute_result"
    }
   ],
   "source": [
    "P = convert_bar_to_Pa(40.53)\n",
    "T = 190\n",
    "\n",
    "result = stability_test(model, P, T, z)\n",
    "\n",
    "result.phase_split, result.x"
   ]
  },
  {
   "cell_type": "markdown",
   "metadata": {},
   "source": [
    "* Feed composition 2:"
   ]
  },
  {
   "cell_type": "code",
   "execution_count": 21,
   "metadata": {},
   "outputs": [],
   "source": [
    "z = np.array([0.9885, 0.0115])\n",
    "model = NichitaSRK(\n",
    "    z=z,\n",
    "    Tc=Tcs,\n",
    "    Pc=Pcs,\n",
    "    acentric_factor=omegas, \n",
    "    bip=kijs\n",
    ")"
   ]
  },
  {
   "cell_type": "code",
   "execution_count": 22,
   "metadata": {},
   "outputs": [
    {
     "data": {
      "text/plain": [
       "(False, array([0.98850016, 0.01149984]))"
      ]
     },
     "execution_count": 22,
     "metadata": {},
     "output_type": "execute_result"
    }
   ],
   "source": [
    "result = stability_test(model, P, T, z)\n",
    "\n",
    "result.phase_split, result.x"
   ]
  },
  {
   "cell_type": "markdown",
   "metadata": {},
   "source": [
    "* Feed composition 3:"
   ]
  },
  {
   "cell_type": "code",
   "execution_count": 23,
   "metadata": {},
   "outputs": [],
   "source": [
    "z = np.array([0.9813, 0.0187])\n",
    "model = NichitaSRK(\n",
    "    z=z,\n",
    "    Tc=Tcs,\n",
    "    Pc=Pcs,\n",
    "    acentric_factor=omegas, \n",
    "    bip=kijs\n",
    ")"
   ]
  },
  {
   "cell_type": "code",
   "execution_count": 24,
   "metadata": {},
   "outputs": [
    {
     "data": {
      "text/plain": [
       "(False, array([0.11500052, 0.88499948]))"
      ]
     },
     "execution_count": 24,
     "metadata": {},
     "output_type": "execute_result"
    }
   ],
   "source": [
    "result = stability_test(model, P, T, z)\n",
    "\n",
    "result.phase_split, result.x"
   ]
  },
  {
   "cell_type": "markdown",
   "metadata": {},
   "source": [
    "The result above must be **True**."
   ]
  },
  {
   "cell_type": "markdown",
   "metadata": {},
   "source": [
    "* Feed composition 4:"
   ]
  },
  {
   "cell_type": "code",
   "execution_count": 25,
   "metadata": {},
   "outputs": [],
   "source": [
    "z = np.array([0.112, 0.888])\n",
    "model = NichitaSRK(\n",
    "    z=z,\n",
    "    Tc=Tcs,\n",
    "    Pc=Pcs,\n",
    "    acentric_factor=omegas, \n",
    "    bip=kijs\n",
    ")"
   ]
  },
  {
   "cell_type": "code",
   "execution_count": 26,
   "metadata": {},
   "outputs": [
    {
     "data": {
      "text/plain": [
       "(False, array([0.11199998, 0.88800002]))"
      ]
     },
     "execution_count": 26,
     "metadata": {},
     "output_type": "execute_result"
    }
   ],
   "source": [
    "result = stability_test(model, P, T, z)\n",
    "\n",
    "result.phase_split, result.x"
   ]
  },
  {
   "cell_type": "markdown",
   "metadata": {},
   "source": [
    "The result above must be **True**."
   ]
  },
  {
   "cell_type": "markdown",
   "metadata": {},
   "source": [
    "* Feed composition 5:"
   ]
  },
  {
   "cell_type": "code",
   "execution_count": 27,
   "metadata": {},
   "outputs": [],
   "source": [
    "z = np.array([0.11, 0.89])\n",
    "model = NichitaSRK(\n",
    "    z=z,\n",
    "    Tc=Tcs,\n",
    "    Pc=Pcs,\n",
    "    acentric_factor=omegas, \n",
    "    bip=kijs\n",
    ")"
   ]
  },
  {
   "cell_type": "code",
   "execution_count": 28,
   "metadata": {},
   "outputs": [
    {
     "data": {
      "text/plain": [
       "(False, array([0.91928079, 0.08071921]))"
      ]
     },
     "execution_count": 28,
     "metadata": {},
     "output_type": "execute_result"
    }
   ],
   "source": [
    "result = stability_test(model, P, T, z)\n",
    "\n",
    "result.phase_split, result.x"
   ]
  },
  {
   "cell_type": "markdown",
   "metadata": {},
   "source": [
    "## Case 4 (Problem 2)"
   ]
  },
  {
   "cell_type": "code",
   "execution_count": 29,
   "metadata": {},
   "outputs": [],
   "source": [
    "methane = Chemical('methane')\n",
    "propane = Chemical('propane')"
   ]
  },
  {
   "cell_type": "markdown",
   "metadata": {},
   "source": [
    "### P = 50 bar"
   ]
  },
  {
   "cell_type": "markdown",
   "metadata": {},
   "source": [
    "* Feed composition 1:"
   ]
  },
  {
   "cell_type": "code",
   "execution_count": 30,
   "metadata": {},
   "outputs": [],
   "source": [
    "z = np.array([0.10, 0.90])\n",
    "omegas = np.array([methane.omega, propane.omega])\n",
    "Tcs = np.array([methane.Tc, propane.Tc])\n",
    "Pcs = np.array([methane.Pc, propane.Pc])\n",
    "kijs = np.array([\n",
    "    [0.000, 0.029],\n",
    "    [0.029, 0.000]\n",
    "])\n",
    "model = NichitaSRK(\n",
    "    z=z,\n",
    "    Tc=Tcs,\n",
    "    Pc=Pcs,\n",
    "    acentric_factor=omegas, \n",
    "    bip=kijs\n",
    ")"
   ]
  },
  {
   "cell_type": "code",
   "execution_count": 31,
   "metadata": {},
   "outputs": [
    {
     "data": {
      "text/plain": [
       "(False, array([0.09999999, 0.90000001]))"
      ]
     },
     "execution_count": 31,
     "metadata": {},
     "output_type": "execute_result"
    }
   ],
   "source": [
    "P = convert_bar_to_Pa(50)\n",
    "T = 277.6\n",
    "\n",
    "result = stability_test(model, P, T, z)\n",
    "\n",
    "result.phase_split, result.x"
   ]
  },
  {
   "cell_type": "markdown",
   "metadata": {},
   "source": [
    "* Feed composition 2:"
   ]
  },
  {
   "cell_type": "code",
   "execution_count": 32,
   "metadata": {},
   "outputs": [],
   "source": [
    "z = np.array([0.40, 0.60])\n",
    "model = NichitaSRK(\n",
    "    z=z,\n",
    "    Tc=Tcs,\n",
    "    Pc=Pcs,\n",
    "    acentric_factor=omegas, \n",
    "    bip=kijs\n",
    ")"
   ]
  },
  {
   "cell_type": "code",
   "execution_count": 33,
   "metadata": {},
   "outputs": [
    {
     "data": {
      "text/plain": [
       "(True, array([0.86561368, 0.13438632]))"
      ]
     },
     "execution_count": 33,
     "metadata": {},
     "output_type": "execute_result"
    }
   ],
   "source": [
    "result = stability_test(model, P, T, z)\n",
    "\n",
    "result.phase_split, result.x"
   ]
  },
  {
   "cell_type": "markdown",
   "metadata": {},
   "source": [
    "* Feed composition 3:"
   ]
  },
  {
   "cell_type": "code",
   "execution_count": 34,
   "metadata": {},
   "outputs": [],
   "source": [
    "z = np.array([0.60, 0.40])\n",
    "model = NichitaSRK(\n",
    "    z=z,\n",
    "    Tc=Tcs,\n",
    "    Pc=Pcs,\n",
    "    acentric_factor=omegas, \n",
    "    bip=kijs\n",
    ")"
   ]
  },
  {
   "cell_type": "code",
   "execution_count": 35,
   "metadata": {},
   "outputs": [
    {
     "data": {
      "text/plain": [
       "(True, array([0.19288711, 0.80711289]))"
      ]
     },
     "execution_count": 35,
     "metadata": {},
     "output_type": "execute_result"
    }
   ],
   "source": [
    "result = stability_test(model, P, T, z)\n",
    "\n",
    "result.phase_split, result.x"
   ]
  },
  {
   "cell_type": "markdown",
   "metadata": {},
   "source": [
    "* Feed composition 4:"
   ]
  },
  {
   "cell_type": "code",
   "execution_count": 36,
   "metadata": {},
   "outputs": [],
   "source": [
    "z = np.array([0.90, 0.10])\n",
    "model = NichitaSRK(\n",
    "    z=z,\n",
    "    Tc=Tcs,\n",
    "    Pc=Pcs,\n",
    "    acentric_factor=omegas, \n",
    "    bip=kijs\n",
    ")"
   ]
  },
  {
   "cell_type": "code",
   "execution_count": 37,
   "metadata": {},
   "outputs": [
    {
     "data": {
      "text/plain": [
       "(False, array([0.90000004, 0.09999996]))"
      ]
     },
     "execution_count": 37,
     "metadata": {},
     "output_type": "execute_result"
    }
   ],
   "source": [
    "result = stability_test(model, P, T, z)\n",
    "\n",
    "result.phase_split, result.x"
   ]
  },
  {
   "cell_type": "markdown",
   "metadata": {},
   "source": [
    "### P = 100 bar"
   ]
  },
  {
   "cell_type": "markdown",
   "metadata": {},
   "source": [
    "* Feed composition 1:"
   ]
  },
  {
   "cell_type": "code",
   "execution_count": 38,
   "metadata": {},
   "outputs": [],
   "source": [
    "z = np.array([0.40, 0.60])\n",
    "model = NichitaSRK(\n",
    "    z=z,\n",
    "    Tc=Tcs,\n",
    "    Pc=Pcs,\n",
    "    acentric_factor=omegas, \n",
    "    bip=kijs\n",
    ")"
   ]
  },
  {
   "cell_type": "code",
   "execution_count": 39,
   "metadata": {},
   "outputs": [
    {
     "data": {
      "text/plain": [
       "(False, array([0.39999989, 0.60000011]))"
      ]
     },
     "execution_count": 39,
     "metadata": {},
     "output_type": "execute_result"
    }
   ],
   "source": [
    "P = convert_bar_to_Pa(100)\n",
    "T = 277.6\n",
    "\n",
    "result = stability_test(model, P, T, z)\n",
    "\n",
    "result.phase_split, result.x"
   ]
  },
  {
   "cell_type": "markdown",
   "metadata": {},
   "source": [
    "* Feed composition 2:"
   ]
  },
  {
   "cell_type": "code",
   "execution_count": 40,
   "metadata": {},
   "outputs": [],
   "source": [
    "z = np.array([0.68, 0.32])\n",
    "model = NichitaSRK(\n",
    "    z=z,\n",
    "    Tc=Tcs,\n",
    "    Pc=Pcs,\n",
    "    acentric_factor=omegas, \n",
    "    bip=kijs\n",
    ")"
   ]
  },
  {
   "cell_type": "code",
   "execution_count": 41,
   "metadata": {},
   "outputs": [
    {
     "data": {
      "text/plain": [
       "(True, array([0.77287172, 0.22712828]))"
      ]
     },
     "execution_count": 41,
     "metadata": {},
     "output_type": "execute_result"
    }
   ],
   "source": [
    "result = stability_test(model, P, T, z)\n",
    "\n",
    "result.phase_split, result.x"
   ]
  },
  {
   "cell_type": "markdown",
   "metadata": {},
   "source": [
    "* Feed composition 3:"
   ]
  },
  {
   "cell_type": "code",
   "execution_count": 42,
   "metadata": {},
   "outputs": [],
   "source": [
    "z = np.array([0.73, 0.27])\n",
    "model = NichitaSRK(\n",
    "    z=z,\n",
    "    Tc=Tcs,\n",
    "    Pc=Pcs,\n",
    "    acentric_factor=omegas, \n",
    "    bip=kijs\n",
    ")"
   ]
  },
  {
   "cell_type": "code",
   "execution_count": 43,
   "metadata": {},
   "outputs": [
    {
     "data": {
      "text/plain": [
       "(True, array([0.64984014, 0.35015986]))"
      ]
     },
     "execution_count": 43,
     "metadata": {},
     "output_type": "execute_result"
    }
   ],
   "source": [
    "result = stability_test(model, P, T, z)\n",
    "\n",
    "result.phase_split, result.x"
   ]
  },
  {
   "cell_type": "markdown",
   "metadata": {},
   "source": [
    "* Feed composition 4:"
   ]
  },
  {
   "cell_type": "code",
   "execution_count": 44,
   "metadata": {},
   "outputs": [],
   "source": [
    "z = np.array([0.90, 0.10])\n",
    "model = NichitaSRK(\n",
    "    z=z,\n",
    "    Tc=Tcs,\n",
    "    Pc=Pcs,\n",
    "    acentric_factor=omegas, \n",
    "    bip=kijs\n",
    ")"
   ]
  },
  {
   "cell_type": "code",
   "execution_count": 45,
   "metadata": {},
   "outputs": [
    {
     "data": {
      "text/plain": [
       "(False, array([0.90000013, 0.09999987]))"
      ]
     },
     "execution_count": 45,
     "metadata": {},
     "output_type": "execute_result"
    }
   ],
   "source": [
    "result = stability_test(model, P, T, z)\n",
    "\n",
    "result.phase_split, result.x"
   ]
  },
  {
   "cell_type": "markdown",
   "metadata": {},
   "source": [
    "## Case 5 (Problem 4)"
   ]
  },
  {
   "cell_type": "code",
   "execution_count": 46,
   "metadata": {},
   "outputs": [],
   "source": [
    "methane = Chemical('methane')\n",
    "carbon_dioxide = Chemical('CO2')"
   ]
  },
  {
   "cell_type": "markdown",
   "metadata": {},
   "source": [
    "* Feed composition 1:"
   ]
  },
  {
   "cell_type": "code",
   "execution_count": 47,
   "metadata": {},
   "outputs": [],
   "source": [
    "z = np.array([0.90, 0.10])\n",
    "omegas = np.array([methane.omega, carbon_dioxide.omega])\n",
    "Tcs = np.array([methane.Tc, carbon_dioxide.Tc])\n",
    "Pcs = np.array([methane.Pc, carbon_dioxide.Pc])\n",
    "kijs = np.array([\n",
    "    [0.000, 0.095],\n",
    "    [0.095, 0.000]\n",
    "])\n",
    "model = NichitaPR(\n",
    "    z=z,\n",
    "    Tc=Tcs,\n",
    "    Pc=Pcs,\n",
    "    acentric_factor=omegas, \n",
    "    bip=kijs\n",
    ")"
   ]
  },
  {
   "cell_type": "code",
   "execution_count": 48,
   "metadata": {},
   "outputs": [
    {
     "data": {
      "text/plain": [
       "(False, array([0.90000028, 0.09999972]))"
      ]
     },
     "execution_count": 48,
     "metadata": {},
     "output_type": "execute_result"
    }
   ],
   "source": [
    "P = convert_bar_to_Pa(60.8)\n",
    "T = 220\n",
    "\n",
    "result = stability_test(model, P, T, z)\n",
    "\n",
    "result.phase_split, result.x"
   ]
  },
  {
   "cell_type": "markdown",
   "metadata": {},
   "source": [
    "* Feed composition 2:"
   ]
  },
  {
   "cell_type": "code",
   "execution_count": 49,
   "metadata": {},
   "outputs": [],
   "source": [
    "z = np.array([0.80, 0.20])\n",
    "model = NichitaPR(\n",
    "    z=z,\n",
    "    Tc=Tcs,\n",
    "    Pc=Pcs,\n",
    "    acentric_factor=omegas, \n",
    "    bip=kijs\n",
    ")"
   ]
  },
  {
   "cell_type": "code",
   "execution_count": 50,
   "metadata": {},
   "outputs": [
    {
     "data": {
      "text/plain": [
       "(True, array([0.5011043, 0.4988957]))"
      ]
     },
     "execution_count": 50,
     "metadata": {},
     "output_type": "execute_result"
    }
   ],
   "source": [
    "result = stability_test(model, P, T, z)\n",
    "\n",
    "result.phase_split, result.x"
   ]
  },
  {
   "cell_type": "markdown",
   "metadata": {},
   "source": [
    "This should be **False**!"
   ]
  },
  {
   "cell_type": "markdown",
   "metadata": {},
   "source": [
    "* Feed composition 3:"
   ]
  },
  {
   "cell_type": "code",
   "execution_count": 51,
   "metadata": {},
   "outputs": [],
   "source": [
    "z = np.array([0.70, 0.30])\n",
    "model = NichitaPR(\n",
    "    z=z,\n",
    "    Tc=Tcs,\n",
    "    Pc=Pcs,\n",
    "    acentric_factor=omegas, \n",
    "    bip=kijs\n",
    ")"
   ]
  },
  {
   "cell_type": "code",
   "execution_count": 52,
   "metadata": {},
   "outputs": [
    {
     "data": {
      "text/plain": [
       "(True, array([0.81527769, 0.18472231]))"
      ]
     },
     "execution_count": 52,
     "metadata": {},
     "output_type": "execute_result"
    }
   ],
   "source": [
    "result = stability_test(model, P, T, z)\n",
    "\n",
    "result.phase_split, result.x"
   ]
  },
  {
   "cell_type": "markdown",
   "metadata": {},
   "source": [
    "* Feed composition 4:"
   ]
  },
  {
   "cell_type": "code",
   "execution_count": 53,
   "metadata": {},
   "outputs": [],
   "source": [
    "z = np.array([0.57, 0.43])\n",
    "model = NichitaPR(\n",
    "    z=z,\n",
    "    Tc=Tcs,\n",
    "    Pc=Pcs,\n",
    "    acentric_factor=omegas, \n",
    "    bip=kijs\n",
    ")"
   ]
  },
  {
   "cell_type": "code",
   "execution_count": 54,
   "metadata": {},
   "outputs": [
    {
     "data": {
      "text/plain": [
       "(True, array([0.80904786, 0.19095214]))"
      ]
     },
     "execution_count": 54,
     "metadata": {},
     "output_type": "execute_result"
    }
   ],
   "source": [
    "result = stability_test(model, P, T, z)\n",
    "\n",
    "result.phase_split, result.x"
   ]
  },
  {
   "cell_type": "markdown",
   "metadata": {},
   "source": [
    "The result above should be **True**!"
   ]
  },
  {
   "cell_type": "markdown",
   "metadata": {},
   "source": [
    "* Feed composition 5:"
   ]
  },
  {
   "cell_type": "code",
   "execution_count": 55,
   "metadata": {},
   "outputs": [],
   "source": [
    "z = np.array([0.40, 0.60])\n",
    "model = NichitaPR(\n",
    "    z=z,\n",
    "    Tc=Tcs,\n",
    "    Pc=Pcs,\n",
    "    acentric_factor=omegas, \n",
    "    bip=kijs\n",
    ")"
   ]
  },
  {
   "cell_type": "code",
   "execution_count": 56,
   "metadata": {},
   "outputs": [
    {
     "data": {
      "text/plain": [
       "(False, array([0.39999911, 0.60000089]))"
      ]
     },
     "execution_count": 56,
     "metadata": {},
     "output_type": "execute_result"
    }
   ],
   "source": [
    "result = stability_test(model, P, T, z)\n",
    "\n",
    "result.phase_split, result.x"
   ]
  }
 ],
 "metadata": {
  "kernelspec": {
   "display_name": "Python 3",
   "language": "python",
   "name": "python3"
  },
  "language_info": {
   "codemirror_mode": {
    "name": "ipython",
    "version": 3
   },
   "file_extension": ".py",
   "mimetype": "text/x-python",
   "name": "python",
   "nbconvert_exporter": "python",
   "pygments_lexer": "ipython3",
   "version": "3.6.7"
  },
  "toc": {
   "base_numbering": 1,
   "nav_menu": {},
   "number_sections": false,
   "sideBar": true,
   "skip_h1_title": false,
   "title_cell": "Table of Contents",
   "title_sidebar": "Contents",
   "toc_cell": false,
   "toc_position": {},
   "toc_section_display": true,
   "toc_window_display": false
  }
 },
 "nbformat": 4,
 "nbformat_minor": 2
}

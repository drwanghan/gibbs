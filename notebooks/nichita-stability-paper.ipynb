{
 "cells": [
  {
   "cell_type": "code",
   "execution_count": 1,
   "metadata": {},
   "outputs": [],
   "source": [
    "import attr\n",
    "import numpy as np\n",
    "from thermo import Chemical\n",
    "import warnings\n",
    "\n",
    "from gibbs.models.ceos import PengRobinson78\n",
    "from gibbs.mixture import Mixture\n",
    "from gibbs.stability_analysis import stability_test\n",
    "\n",
    "warnings.filterwarnings('ignore')"
   ]
  },
  {
   "cell_type": "markdown",
   "metadata": {},
   "source": [
    "## Case 1"
   ]
  },
  {
   "cell_type": "code",
   "execution_count": 2,
   "metadata": {},
   "outputs": [],
   "source": [
    "@attr.s(auto_attribs=True)\n",
    "class NichitaModel:\n",
    "    z: np.ndarray\n",
    "    Tc: np.ndarray\n",
    "    Pc: np.ndarray\n",
    "    acentric_factor: np.ndarray\n",
    "    bip: np.ndarray\n",
    "        \n",
    "    @property\n",
    "    def mixture(self):\n",
    "        return Mixture(\n",
    "            z=self.z, \n",
    "            Tc=self.Tc, \n",
    "            Pc=self.Pc, \n",
    "            acentric_factor=self.acentric_factor\n",
    "        )\n",
    "\n",
    "    @property\n",
    "    def model(self):\n",
    "        return PengRobinson78(\n",
    "            mixture=self.mixture,\n",
    "            bip=self.bip\n",
    "        )\n",
    "\n",
    "    @property\n",
    "    def number_of_components(self):\n",
    "        return len(self.z)\n",
    "\n",
    "    def fugacity(self, P, T, z):\n",
    "        Z_factor = self.calculate_Z(P, T, z)\n",
    "        return self.model.calculate_fugacity(P, T, z, Z_factor)\n",
    "\n",
    "    def calculate_Z(self, P, T, z):\n",
    "        Z_factor = self.model.calculate_Z_minimal_energy(P, T, z)\n",
    "        return Z_factor"
   ]
  },
  {
   "cell_type": "code",
   "execution_count": 3,
   "metadata": {},
   "outputs": [],
   "source": [
    "methane = Chemical('methane')\n",
    "ethane = Chemical('ethane')\n",
    "nitrogen = Chemical('nitrogen')"
   ]
  },
  {
   "cell_type": "markdown",
   "metadata": {},
   "source": [
    "* Feed composition 1:"
   ]
  },
  {
   "cell_type": "code",
   "execution_count": 4,
   "metadata": {},
   "outputs": [],
   "source": [
    "z = np.array([0.10, 0.60, 0.30])\n",
    "omegas = np.array([methane.omega, ethane.omega, nitrogen.omega])\n",
    "Tcs = np.array([methane.Tc, ethane.Tc, nitrogen.Tc])\n",
    "Pcs = np.array([methane.Pc, ethane.Pc, nitrogen.Pc])\n",
    "kijs = np.array([\n",
    "    [0.000, 0.021, 0.038],\n",
    "    [0.021, 0.000, 0.080],\n",
    "    [0.038, 0.080, 0.000]\n",
    "])\n",
    "model = NichitaModel(\n",
    "    z=z,\n",
    "    Tc=Tcs,\n",
    "    Pc=Pcs,\n",
    "    acentric_factor=omegas, \n",
    "    bip=kijs\n",
    ")"
   ]
  },
  {
   "cell_type": "code",
   "execution_count": 5,
   "metadata": {},
   "outputs": [
    {
     "data": {
      "text/plain": [
       "True"
      ]
     },
     "execution_count": 5,
     "metadata": {},
     "output_type": "execute_result"
    }
   ],
   "source": [
    "P = 7.6e6\n",
    "T = 270\n",
    "\n",
    "result = stability_test(model, P, T, z)\n",
    "\n",
    "result.phase_split"
   ]
  },
  {
   "cell_type": "markdown",
   "metadata": {},
   "source": [
    "* Feed composition 2:"
   ]
  },
  {
   "cell_type": "code",
   "execution_count": 6,
   "metadata": {},
   "outputs": [],
   "source": [
    "z = np.array([0.30, 0.55, 0.15])\n",
    "model = NichitaModel(\n",
    "    z=z,\n",
    "    Tc=Tcs,\n",
    "    Pc=Pcs,\n",
    "    acentric_factor=omegas, \n",
    "    bip=kijs\n",
    ")"
   ]
  },
  {
   "cell_type": "code",
   "execution_count": 7,
   "metadata": {},
   "outputs": [
    {
     "data": {
      "text/plain": [
       "True"
      ]
     },
     "execution_count": 7,
     "metadata": {},
     "output_type": "execute_result"
    }
   ],
   "source": [
    "result = stability_test(model, P, T, z)\n",
    "\n",
    "result.phase_split"
   ]
  },
  {
   "cell_type": "markdown",
   "metadata": {},
   "source": [
    "* Feed composition 3:"
   ]
  },
  {
   "cell_type": "code",
   "execution_count": 8,
   "metadata": {},
   "outputs": [],
   "source": [
    "z = np.array([0.38, 0.54, 0.08])\n",
    "model = NichitaModel(\n",
    "    z=z,\n",
    "    Tc=Tcs,\n",
    "    Pc=Pcs,\n",
    "    acentric_factor=omegas, \n",
    "    bip=kijs\n",
    ")"
   ]
  },
  {
   "cell_type": "code",
   "execution_count": 9,
   "metadata": {},
   "outputs": [
    {
     "data": {
      "text/plain": [
       "False"
      ]
     },
     "execution_count": 9,
     "metadata": {},
     "output_type": "execute_result"
    }
   ],
   "source": [
    "result = stability_test(model, P, T, z)\n",
    "\n",
    "result.phase_split"
   ]
  },
  {
   "cell_type": "markdown",
   "metadata": {},
   "source": [
    "* Feed composition 4:"
   ]
  },
  {
   "cell_type": "code",
   "execution_count": 10,
   "metadata": {},
   "outputs": [],
   "source": [
    "z = np.array([0.05, 0.90, 0.05])\n",
    "model = NichitaModel(\n",
    "    z=z,\n",
    "    Tc=Tcs,\n",
    "    Pc=Pcs,\n",
    "    acentric_factor=omegas, \n",
    "    bip=kijs\n",
    ")"
   ]
  },
  {
   "cell_type": "code",
   "execution_count": 11,
   "metadata": {},
   "outputs": [
    {
     "data": {
      "text/plain": [
       "False"
      ]
     },
     "execution_count": 11,
     "metadata": {},
     "output_type": "execute_result"
    }
   ],
   "source": [
    "result = stability_test(model, P, T, z)\n",
    "\n",
    "result.phase_split"
   ]
  },
  {
   "cell_type": "markdown",
   "metadata": {},
   "source": [
    "## Case 2: Yarborough 8 mixture"
   ]
  },
  {
   "cell_type": "code",
   "execution_count": 12,
   "metadata": {},
   "outputs": [],
   "source": [
    "propane = Chemical('propane')\n",
    "pentane = Chemical('pentane')\n",
    "heptane = Chemical('heptane')\n",
    "decane = Chemical('decane')"
   ]
  },
  {
   "cell_type": "code",
   "execution_count": 13,
   "metadata": {},
   "outputs": [],
   "source": [
    "z = np.array([0.8097, 0.0566, 0.0306, 0.0457, 0.0330, 0.0244])\n",
    "omegas = np.array([\n",
    "    methane.omega, \n",
    "    ethane.omega, \n",
    "    propane.omega,\n",
    "    pentane.omega,\n",
    "    heptane.omega,\n",
    "    decane.omega\n",
    "])\n",
    "Tcs = np.array([\n",
    "    methane.Tc, \n",
    "    ethane.Tc, \n",
    "    propane.Tc,\n",
    "    pentane.Tc,\n",
    "    heptane.Tc,\n",
    "    decane.Tc\n",
    "])\n",
    "Pcs = np.array([\n",
    "    methane.Pc, \n",
    "    ethane.Pc, \n",
    "    propane.Pc,\n",
    "    pentane.Pc,\n",
    "    heptane.Pc,\n",
    "    decane.Pc\n",
    "])\n",
    "kijs = np.zeros((len(Pcs), len(Pcs)))\n",
    "model = NichitaModel(\n",
    "    z=z,\n",
    "    Tc=Tcs,\n",
    "    Pc=Pcs,\n",
    "    acentric_factor=omegas, \n",
    "    bip=kijs\n",
    ")"
   ]
  },
  {
   "cell_type": "markdown",
   "metadata": {},
   "source": [
    "* Condition 1:"
   ]
  },
  {
   "cell_type": "code",
   "execution_count": 14,
   "metadata": {},
   "outputs": [
    {
     "data": {
      "text/plain": [
       "False"
      ]
     },
     "execution_count": 14,
     "metadata": {},
     "output_type": "execute_result"
    }
   ],
   "source": [
    "P = 21000000  # in Pa\n",
    "T = 293.78\n",
    "\n",
    "result = stability_test(model, P, T, z)\n",
    "\n",
    "result.phase_split"
   ]
  },
  {
   "cell_type": "markdown",
   "metadata": {},
   "source": [
    "* Condition 2:"
   ]
  },
  {
   "cell_type": "code",
   "execution_count": 15,
   "metadata": {},
   "outputs": [
    {
     "data": {
      "text/plain": [
       "False"
      ]
     },
     "execution_count": 15,
     "metadata": {},
     "output_type": "execute_result"
    }
   ],
   "source": [
    "P = 21066000  # in Pa\n",
    "T = 293.78\n",
    "\n",
    "result = stability_test(model, P, T, z)\n",
    "\n",
    "result.phase_split"
   ]
  },
  {
   "cell_type": "markdown",
   "metadata": {},
   "source": [
    "* Condition 3:"
   ]
  },
  {
   "cell_type": "code",
   "execution_count": 16,
   "metadata": {},
   "outputs": [
    {
     "data": {
      "text/plain": [
       "False"
      ]
     },
     "execution_count": 16,
     "metadata": {},
     "output_type": "execute_result"
    }
   ],
   "source": [
    "P = 21067000  # in Pa\n",
    "T = 293.78\n",
    "\n",
    "result = stability_test(model, P, T, z)\n",
    "\n",
    "result.phase_split"
   ]
  },
  {
   "cell_type": "markdown",
   "metadata": {},
   "source": [
    "* Condition 4:"
   ]
  },
  {
   "cell_type": "code",
   "execution_count": 17,
   "metadata": {},
   "outputs": [
    {
     "data": {
      "text/plain": [
       "False"
      ]
     },
     "execution_count": 17,
     "metadata": {},
     "output_type": "execute_result"
    }
   ],
   "source": [
    "P = 21500000  # in Pa\n",
    "T = 293.78\n",
    "\n",
    "result = stability_test(model, P, T, z)\n",
    "\n",
    "result.phase_split"
   ]
  }
 ],
 "metadata": {
  "kernelspec": {
   "display_name": "Python 3",
   "language": "python",
   "name": "python3"
  },
  "language_info": {
   "codemirror_mode": {
    "name": "ipython",
    "version": 3
   },
   "file_extension": ".py",
   "mimetype": "text/x-python",
   "name": "python",
   "nbconvert_exporter": "python",
   "pygments_lexer": "ipython3",
   "version": "3.6.7"
  },
  "toc": {
   "base_numbering": 1,
   "nav_menu": {},
   "number_sections": false,
   "sideBar": true,
   "skip_h1_title": false,
   "title_cell": "Table of Contents",
   "title_sidebar": "Contents",
   "toc_cell": false,
   "toc_position": {},
   "toc_section_display": true,
   "toc_window_display": false
  }
 },
 "nbformat": 4,
 "nbformat_minor": 2
}

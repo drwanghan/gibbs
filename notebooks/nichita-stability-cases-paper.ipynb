{
 "cells": [
  {
   "cell_type": "code",
   "execution_count": 1,
   "metadata": {},
   "outputs": [],
   "source": [
    "import attr\n",
    "import numpy as np\n",
    "from thermo import Chemical\n",
    "import warnings\n",
    "\n",
    "from gibbs.cpp_wrapper import PengRobinson78, SoaveRedlichKwong, Mixture\n",
    "from gibbs.stability_analysis import stability_test\n",
    "from gibbs.utilities import convert_bar_to_Pa\n",
    "\n",
    "warnings.filterwarnings('ignore')"
   ]
  },
  {
   "cell_type": "markdown",
   "metadata": {},
   "source": [
    "## Loading the thermodynamic models (cubic EoSs)"
   ]
  },
  {
   "cell_type": "code",
   "execution_count": 2,
   "metadata": {},
   "outputs": [],
   "source": [
    "@attr.s(auto_attribs=True)\n",
    "class NichitaPR:\n",
    "    mixture: Mixture\n",
    "    bip: np.ndarray\n",
    "\n",
    "    @property\n",
    "    def model(self):\n",
    "        return PengRobinson78(\n",
    "            mixture=self.mixture,\n",
    "            bip=self.bip\n",
    "        )\n",
    "\n",
    "    @property\n",
    "    def number_of_components(self):\n",
    "        return len(self.mixture.z)\n",
    "\n",
    "    def fugacity(self, P, T, z):\n",
    "        Z_factor = self.calculate_Z(P, T, z)\n",
    "        return self.model.calculate_fugacity(P, T, z, Z_factor)\n",
    "\n",
    "    def calculate_Z(self, P, T, z):\n",
    "        Z_factor = self.model.calculate_Z_minimal_energy(P, T, z)\n",
    "        return Z_factor\n",
    "    \n",
    "    \n",
    "@attr.s(auto_attribs=True)\n",
    "class NichitaSRK:\n",
    "    mixture: Mixture\n",
    "    bip: np.ndarray\n",
    "\n",
    "    @property\n",
    "    def model(self):\n",
    "        return SoaveRedlichKwong(\n",
    "            mixture=self.mixture,\n",
    "            bip=self.bip\n",
    "        )\n",
    "\n",
    "    @property\n",
    "    def number_of_components(self):\n",
    "        return len(self.mixture.z)\n",
    "\n",
    "    def fugacity(self, P, T, z):\n",
    "        Z_factor = self.calculate_Z(P, T, z)\n",
    "        return self.model.calculate_fugacity(P, T, z, Z_factor)\n",
    "\n",
    "    def calculate_Z(self, P, T, z):\n",
    "        Z_factor = self.model.calculate_Z_minimal_energy(P, T, z)\n",
    "        return Z_factor"
   ]
  },
  {
   "cell_type": "markdown",
   "metadata": {},
   "source": [
    "## Problem 1"
   ]
  },
  {
   "cell_type": "code",
   "execution_count": 3,
   "metadata": {},
   "outputs": [],
   "source": [
    "methane = Chemical('methane')\n",
    "hydrogen_sulfide = Chemical('H2S')"
   ]
  },
  {
   "cell_type": "markdown",
   "metadata": {},
   "source": [
    "* Feed composition 1:"
   ]
  },
  {
   "cell_type": "code",
   "execution_count": 4,
   "metadata": {},
   "outputs": [],
   "source": [
    "z = np.array([0.5, 0.5])\n",
    "omegas = np.array([methane.omega, hydrogen_sulfide.omega])\n",
    "Tcs = np.array([methane.Tc, hydrogen_sulfide.Tc])\n",
    "Pcs = np.array([methane.Pc, hydrogen_sulfide.Pc])\n",
    "mixture = Mixture(z, Tcs, Pcs, omegas)\n",
    "kijs = np.array([\n",
    "    [0.000, 0.080],\n",
    "    [0.080, 0.000]\n",
    "])\n",
    "model = NichitaSRK(\n",
    "    mixture=mixture,\n",
    "    bip=kijs\n",
    ")"
   ]
  },
  {
   "cell_type": "code",
   "execution_count": 5,
   "metadata": {},
   "outputs": [
    {
     "data": {
      "text/plain": [
       "True"
      ]
     },
     "execution_count": 5,
     "metadata": {},
     "output_type": "execute_result"
    }
   ],
   "source": [
    "P = convert_bar_to_Pa(40.53)\n",
    "T = 190\n",
    "\n",
    "result = stability_test(model, P, T, z)\n",
    "\n",
    "result.phase_split"
   ]
  },
  {
   "cell_type": "markdown",
   "metadata": {},
   "source": [
    "The result above must be **True**."
   ]
  },
  {
   "cell_type": "markdown",
   "metadata": {},
   "source": [
    "* Feed composition 2:"
   ]
  },
  {
   "cell_type": "code",
   "execution_count": 6,
   "metadata": {},
   "outputs": [],
   "source": [
    "z = np.array([0.9885, 0.0115])\n",
    "mixture = Mixture(z, Tcs, Pcs, omegas)\n",
    "model = NichitaSRK(\n",
    "    mixture=mixture, \n",
    "    bip=kijs\n",
    ")"
   ]
  },
  {
   "cell_type": "code",
   "execution_count": 7,
   "metadata": {},
   "outputs": [
    {
     "data": {
      "text/plain": [
       "False"
      ]
     },
     "execution_count": 7,
     "metadata": {},
     "output_type": "execute_result"
    }
   ],
   "source": [
    "result = stability_test(model, P, T, z)\n",
    "\n",
    "result.phase_split"
   ]
  },
  {
   "cell_type": "markdown",
   "metadata": {},
   "source": [
    "The result above must be **False**."
   ]
  },
  {
   "cell_type": "markdown",
   "metadata": {},
   "source": [
    "* Feed composition 3:"
   ]
  },
  {
   "cell_type": "code",
   "execution_count": 8,
   "metadata": {},
   "outputs": [],
   "source": [
    "z = np.array([0.9813, 0.0187])\n",
    "mixture = Mixture(z, Tcs, Pcs, omegas)\n",
    "model = NichitaSRK(\n",
    "    mixture=mixture,\n",
    "    bip=kijs\n",
    ")"
   ]
  },
  {
   "cell_type": "code",
   "execution_count": 9,
   "metadata": {},
   "outputs": [
    {
     "data": {
      "text/plain": [
       "True"
      ]
     },
     "execution_count": 9,
     "metadata": {},
     "output_type": "execute_result"
    }
   ],
   "source": [
    "result = stability_test(model, P, T, z)\n",
    "\n",
    "result.phase_split"
   ]
  },
  {
   "cell_type": "markdown",
   "metadata": {},
   "source": [
    "The result above must be **True**."
   ]
  },
  {
   "cell_type": "markdown",
   "metadata": {},
   "source": [
    "* Feed composition 4:"
   ]
  },
  {
   "cell_type": "code",
   "execution_count": 10,
   "metadata": {},
   "outputs": [],
   "source": [
    "z = np.array([0.112, 0.888])\n",
    "mixture = Mixture(z, Tcs, Pcs, omegas)\n",
    "model = NichitaSRK(\n",
    "    mixture=mixture, \n",
    "    bip=kijs\n",
    ")"
   ]
  },
  {
   "cell_type": "code",
   "execution_count": 11,
   "metadata": {},
   "outputs": [
    {
     "data": {
      "text/plain": [
       "True"
      ]
     },
     "execution_count": 11,
     "metadata": {},
     "output_type": "execute_result"
    }
   ],
   "source": [
    "result = stability_test(model, P, T, z)\n",
    "\n",
    "result.phase_split"
   ]
  },
  {
   "cell_type": "markdown",
   "metadata": {},
   "source": [
    "The result above must be **True**."
   ]
  },
  {
   "cell_type": "markdown",
   "metadata": {},
   "source": [
    "* Feed composition 5:"
   ]
  },
  {
   "cell_type": "code",
   "execution_count": 12,
   "metadata": {},
   "outputs": [],
   "source": [
    "z = np.array([0.11, 0.89])\n",
    "mixture = Mixture(z, Tcs, Pcs, omegas)\n",
    "model = NichitaSRK(\n",
    "    mixture=mixture, \n",
    "    bip=kijs\n",
    ")"
   ]
  },
  {
   "cell_type": "code",
   "execution_count": 13,
   "metadata": {},
   "outputs": [
    {
     "data": {
      "text/plain": [
       "False"
      ]
     },
     "execution_count": 13,
     "metadata": {},
     "output_type": "execute_result"
    }
   ],
   "source": [
    "result = stability_test(model, P, T, z)\n",
    "\n",
    "result.phase_split"
   ]
  },
  {
   "cell_type": "markdown",
   "metadata": {},
   "source": [
    "The result above must be **False**."
   ]
  },
  {
   "cell_type": "markdown",
   "metadata": {},
   "source": [
    "## Problem 2"
   ]
  },
  {
   "cell_type": "code",
   "execution_count": 14,
   "metadata": {},
   "outputs": [],
   "source": [
    "methane = Chemical('methane')\n",
    "propane = Chemical('propane')"
   ]
  },
  {
   "cell_type": "markdown",
   "metadata": {},
   "source": [
    "### P = 50 bar"
   ]
  },
  {
   "cell_type": "markdown",
   "metadata": {},
   "source": [
    "* Feed composition 1:"
   ]
  },
  {
   "cell_type": "code",
   "execution_count": 15,
   "metadata": {},
   "outputs": [],
   "source": [
    "z = np.array([0.10, 0.90])\n",
    "omegas = np.array([methane.omega, propane.omega])\n",
    "Tcs = np.array([methane.Tc, propane.Tc])\n",
    "Pcs = np.array([methane.Pc, propane.Pc])\n",
    "mixture = Mixture(z, Tcs, Pcs, omegas)\n",
    "kijs = np.array([\n",
    "    [0.000, 0.029],\n",
    "    [0.029, 0.000]\n",
    "])\n",
    "model = NichitaSRK(\n",
    "    mixture=mixture, \n",
    "    bip=kijs\n",
    ")"
   ]
  },
  {
   "cell_type": "code",
   "execution_count": 16,
   "metadata": {},
   "outputs": [
    {
     "data": {
      "text/plain": [
       "False"
      ]
     },
     "execution_count": 16,
     "metadata": {},
     "output_type": "execute_result"
    }
   ],
   "source": [
    "P = convert_bar_to_Pa(50)\n",
    "T = 277.6\n",
    "\n",
    "result = stability_test(model, P, T, z)\n",
    "\n",
    "result.phase_split"
   ]
  },
  {
   "cell_type": "markdown",
   "metadata": {},
   "source": [
    "The result above must be **False**."
   ]
  },
  {
   "cell_type": "markdown",
   "metadata": {},
   "source": [
    "* Feed composition 2:"
   ]
  },
  {
   "cell_type": "code",
   "execution_count": 17,
   "metadata": {},
   "outputs": [],
   "source": [
    "z = np.array([0.40, 0.60])\n",
    "mixture = Mixture(z, Tcs, Pcs, omegas)\n",
    "model = NichitaSRK(\n",
    "    mixture=mixture, \n",
    "    bip=kijs\n",
    ")"
   ]
  },
  {
   "cell_type": "code",
   "execution_count": 18,
   "metadata": {},
   "outputs": [
    {
     "data": {
      "text/plain": [
       "True"
      ]
     },
     "execution_count": 18,
     "metadata": {},
     "output_type": "execute_result"
    }
   ],
   "source": [
    "result = stability_test(model, P, T, z)\n",
    "\n",
    "result.phase_split"
   ]
  },
  {
   "cell_type": "markdown",
   "metadata": {},
   "source": [
    "The result above must be **True**."
   ]
  },
  {
   "cell_type": "markdown",
   "metadata": {},
   "source": [
    "* Feed composition 3:"
   ]
  },
  {
   "cell_type": "code",
   "execution_count": 19,
   "metadata": {},
   "outputs": [],
   "source": [
    "z = np.array([0.60, 0.40])\n",
    "mixture = Mixture(z, Tcs, Pcs, omegas)\n",
    "model = NichitaSRK(\n",
    "    mixture=mixture, \n",
    "    bip=kijs\n",
    ")"
   ]
  },
  {
   "cell_type": "code",
   "execution_count": 20,
   "metadata": {},
   "outputs": [
    {
     "data": {
      "text/plain": [
       "True"
      ]
     },
     "execution_count": 20,
     "metadata": {},
     "output_type": "execute_result"
    }
   ],
   "source": [
    "result = stability_test(model, P, T, z)\n",
    "\n",
    "result.phase_split"
   ]
  },
  {
   "cell_type": "markdown",
   "metadata": {},
   "source": [
    "The result above must be **True**."
   ]
  },
  {
   "cell_type": "markdown",
   "metadata": {},
   "source": [
    "* Feed composition 4:"
   ]
  },
  {
   "cell_type": "code",
   "execution_count": 21,
   "metadata": {},
   "outputs": [],
   "source": [
    "z = np.array([0.90, 0.10])\n",
    "mixture = Mixture(z, Tcs, Pcs, omegas)\n",
    "model = NichitaSRK(\n",
    "    mixture=mixture, \n",
    "    bip=kijs\n",
    ")"
   ]
  },
  {
   "cell_type": "code",
   "execution_count": 22,
   "metadata": {},
   "outputs": [
    {
     "data": {
      "text/plain": [
       "False"
      ]
     },
     "execution_count": 22,
     "metadata": {},
     "output_type": "execute_result"
    }
   ],
   "source": [
    "result = stability_test(model, P, T, z)\n",
    "\n",
    "result.phase_split"
   ]
  },
  {
   "cell_type": "markdown",
   "metadata": {},
   "source": [
    "The result above must be **False**."
   ]
  },
  {
   "cell_type": "markdown",
   "metadata": {},
   "source": [
    "### P = 100 bar"
   ]
  },
  {
   "cell_type": "markdown",
   "metadata": {},
   "source": [
    "* Feed composition 1:"
   ]
  },
  {
   "cell_type": "code",
   "execution_count": 23,
   "metadata": {},
   "outputs": [],
   "source": [
    "z = np.array([0.40, 0.60])\n",
    "mixture = Mixture(z, Tcs, Pcs, omegas)\n",
    "model = NichitaSRK(\n",
    "    mixture=mixture, \n",
    "    bip=kijs\n",
    ")"
   ]
  },
  {
   "cell_type": "code",
   "execution_count": 24,
   "metadata": {},
   "outputs": [
    {
     "data": {
      "text/plain": [
       "False"
      ]
     },
     "execution_count": 24,
     "metadata": {},
     "output_type": "execute_result"
    }
   ],
   "source": [
    "P = convert_bar_to_Pa(100)\n",
    "T = 277.6\n",
    "\n",
    "result = stability_test(model, P, T, z)\n",
    "\n",
    "result.phase_split"
   ]
  },
  {
   "cell_type": "markdown",
   "metadata": {},
   "source": [
    "The result above must be **False**."
   ]
  },
  {
   "cell_type": "markdown",
   "metadata": {},
   "source": [
    "* Feed composition 2:"
   ]
  },
  {
   "cell_type": "code",
   "execution_count": 25,
   "metadata": {},
   "outputs": [],
   "source": [
    "z = np.array([0.68, 0.32])\n",
    "mixture = Mixture(z, Tcs, Pcs, omegas)\n",
    "model = NichitaSRK(\n",
    "    mixture=mixture, \n",
    "    bip=kijs\n",
    ")"
   ]
  },
  {
   "cell_type": "code",
   "execution_count": 26,
   "metadata": {},
   "outputs": [
    {
     "data": {
      "text/plain": [
       "True"
      ]
     },
     "execution_count": 26,
     "metadata": {},
     "output_type": "execute_result"
    }
   ],
   "source": [
    "result = stability_test(model, P, T, z)\n",
    "\n",
    "result.phase_split"
   ]
  },
  {
   "cell_type": "markdown",
   "metadata": {},
   "source": [
    "The result above must be **True**."
   ]
  },
  {
   "cell_type": "markdown",
   "metadata": {},
   "source": [
    "* Feed composition 3:"
   ]
  },
  {
   "cell_type": "code",
   "execution_count": 27,
   "metadata": {},
   "outputs": [],
   "source": [
    "z = np.array([0.73, 0.27])\n",
    "mixture = Mixture(z, Tcs, Pcs, omegas)\n",
    "model = NichitaSRK(\n",
    "    mixture=mixture, \n",
    "    bip=kijs\n",
    ")"
   ]
  },
  {
   "cell_type": "code",
   "execution_count": 28,
   "metadata": {},
   "outputs": [
    {
     "data": {
      "text/plain": [
       "True"
      ]
     },
     "execution_count": 28,
     "metadata": {},
     "output_type": "execute_result"
    }
   ],
   "source": [
    "result = stability_test(model, P, T, z)\n",
    "\n",
    "result.phase_split"
   ]
  },
  {
   "cell_type": "markdown",
   "metadata": {},
   "source": [
    "The result above must be **True**."
   ]
  },
  {
   "cell_type": "markdown",
   "metadata": {},
   "source": [
    "* Feed composition 4:"
   ]
  },
  {
   "cell_type": "code",
   "execution_count": 29,
   "metadata": {},
   "outputs": [],
   "source": [
    "z = np.array([0.90, 0.10])\n",
    "mixture = Mixture(z, Tcs, Pcs, omegas)\n",
    "model = NichitaSRK(\n",
    "    mixture=mixture, \n",
    "    bip=kijs\n",
    ")"
   ]
  },
  {
   "cell_type": "code",
   "execution_count": 30,
   "metadata": {},
   "outputs": [
    {
     "data": {
      "text/plain": [
       "False"
      ]
     },
     "execution_count": 30,
     "metadata": {},
     "output_type": "execute_result"
    }
   ],
   "source": [
    "result = stability_test(model, P, T, z)\n",
    "\n",
    "result.phase_split"
   ]
  },
  {
   "cell_type": "markdown",
   "metadata": {},
   "source": [
    "The result above must be **False**."
   ]
  },
  {
   "cell_type": "markdown",
   "metadata": {},
   "source": [
    "## Problem 3"
   ]
  },
  {
   "cell_type": "code",
   "execution_count": 31,
   "metadata": {},
   "outputs": [],
   "source": [
    "ethane = Chemical('ethane')\n",
    "nitrogen = Chemical('N2')"
   ]
  },
  {
   "cell_type": "markdown",
   "metadata": {},
   "source": [
    "* Feed composition 1:"
   ]
  },
  {
   "cell_type": "code",
   "execution_count": 32,
   "metadata": {},
   "outputs": [],
   "source": [
    "z = np.array([0.90, 0.10])\n",
    "omegas = np.array([ethane.omega, nitrogen.omega])\n",
    "Tcs = np.array([ethane.Tc, nitrogen.Tc])\n",
    "Pcs = np.array([ethane.Pc, nitrogen.Pc])\n",
    "mixture = Mixture(z, Tcs, Pcs, omegas)\n",
    "kijs = np.array([\n",
    "    [0.000, 0.080],\n",
    "    [0.080, 0.000]\n",
    "])\n",
    "model = NichitaPR(\n",
    "    mixture=mixture,\n",
    "    bip=kijs\n",
    ")"
   ]
  },
  {
   "cell_type": "code",
   "execution_count": 33,
   "metadata": {},
   "outputs": [
    {
     "data": {
      "text/plain": [
       "False"
      ]
     },
     "execution_count": 33,
     "metadata": {},
     "output_type": "execute_result"
    }
   ],
   "source": [
    "P = convert_bar_to_Pa(76)\n",
    "T = 270\n",
    "\n",
    "result = stability_test(model, P, T, z)\n",
    "\n",
    "result.phase_split"
   ]
  },
  {
   "cell_type": "markdown",
   "metadata": {},
   "source": [
    "The result above must be **False**."
   ]
  },
  {
   "cell_type": "markdown",
   "metadata": {},
   "source": [
    "* Feed composition 2:"
   ]
  },
  {
   "cell_type": "code",
   "execution_count": 34,
   "metadata": {},
   "outputs": [],
   "source": [
    "z = np.array([0.82, 0.18])\n",
    "mixture = Mixture(z, Tcs, Pcs, omegas)\n",
    "model = NichitaPR(\n",
    "    mixture=mixture,\n",
    "    bip=kijs\n",
    ")"
   ]
  },
  {
   "cell_type": "code",
   "execution_count": 35,
   "metadata": {},
   "outputs": [
    {
     "data": {
      "text/plain": [
       "True"
      ]
     },
     "execution_count": 35,
     "metadata": {},
     "output_type": "execute_result"
    }
   ],
   "source": [
    "result = stability_test(model, P, T, z)\n",
    "\n",
    "result.phase_split"
   ]
  },
  {
   "cell_type": "markdown",
   "metadata": {},
   "source": [
    "The result above must be **True**."
   ]
  },
  {
   "cell_type": "markdown",
   "metadata": {},
   "source": [
    "* Feed composition 3:"
   ]
  },
  {
   "cell_type": "code",
   "execution_count": 36,
   "metadata": {},
   "outputs": [],
   "source": [
    "z = np.array([0.70, 0.30])\n",
    "mixture = Mixture(z, Tcs, Pcs, omegas)\n",
    "model = NichitaPR(\n",
    "    mixture=mixture,\n",
    "    bip=kijs\n",
    ")"
   ]
  },
  {
   "cell_type": "code",
   "execution_count": 37,
   "metadata": {},
   "outputs": [
    {
     "data": {
      "text/plain": [
       "True"
      ]
     },
     "execution_count": 37,
     "metadata": {},
     "output_type": "execute_result"
    }
   ],
   "source": [
    "result = stability_test(model, P, T, z)\n",
    "\n",
    "result.phase_split"
   ]
  },
  {
   "cell_type": "markdown",
   "metadata": {},
   "source": [
    "The result above must be **True**."
   ]
  },
  {
   "cell_type": "markdown",
   "metadata": {},
   "source": [
    "* Feed composition 4:"
   ]
  },
  {
   "cell_type": "code",
   "execution_count": 38,
   "metadata": {},
   "outputs": [],
   "source": [
    "z = np.array([0.56, 0.44])\n",
    "mixture = Mixture(z, Tcs, Pcs, omegas)\n",
    "model = NichitaPR(\n",
    "    mixture=mixture,\n",
    "    bip=kijs\n",
    ")"
   ]
  },
  {
   "cell_type": "code",
   "execution_count": 39,
   "metadata": {},
   "outputs": [
    {
     "data": {
      "text/plain": [
       "True"
      ]
     },
     "execution_count": 39,
     "metadata": {},
     "output_type": "execute_result"
    }
   ],
   "source": [
    "result = stability_test(model, P, T, z)\n",
    "\n",
    "result.phase_split"
   ]
  },
  {
   "cell_type": "markdown",
   "metadata": {},
   "source": [
    "The result above must be **True**."
   ]
  },
  {
   "cell_type": "markdown",
   "metadata": {},
   "source": [
    "* Feed composition 5:"
   ]
  },
  {
   "cell_type": "code",
   "execution_count": 40,
   "metadata": {},
   "outputs": [],
   "source": [
    "z = np.array([0.40, 0.60])\n",
    "mixture = Mixture(z, Tcs, Pcs, omegas)\n",
    "model = NichitaPR(\n",
    "    mixture=mixture,\n",
    "    bip=kijs\n",
    ")"
   ]
  },
  {
   "cell_type": "code",
   "execution_count": 41,
   "metadata": {},
   "outputs": [
    {
     "data": {
      "text/plain": [
       "False"
      ]
     },
     "execution_count": 41,
     "metadata": {},
     "output_type": "execute_result"
    }
   ],
   "source": [
    "result = stability_test(model, P, T, z)\n",
    "\n",
    "result.phase_split"
   ]
  },
  {
   "cell_type": "markdown",
   "metadata": {},
   "source": [
    "The result above must be **False**."
   ]
  },
  {
   "cell_type": "markdown",
   "metadata": {},
   "source": [
    "## Problem 4"
   ]
  },
  {
   "cell_type": "code",
   "execution_count": 42,
   "metadata": {},
   "outputs": [],
   "source": [
    "methane = Chemical('methane')\n",
    "carbon_dioxide = Chemical('CO2')"
   ]
  },
  {
   "cell_type": "markdown",
   "metadata": {},
   "source": [
    "* Feed composition 1:"
   ]
  },
  {
   "cell_type": "code",
   "execution_count": 43,
   "metadata": {},
   "outputs": [],
   "source": [
    "z = np.array([0.90, 0.10])\n",
    "omegas = np.array([methane.omega, carbon_dioxide.omega])\n",
    "Tcs = np.array([methane.Tc, carbon_dioxide.Tc])\n",
    "Pcs = np.array([methane.Pc, carbon_dioxide.Pc])\n",
    "mixture = Mixture(z, Tcs, Pcs, omegas)\n",
    "kijs = np.array([\n",
    "    [0.000, 0.095],\n",
    "    [0.095, 0.000]\n",
    "])\n",
    "model = NichitaPR(\n",
    "    mixture=mixture,\n",
    "    bip=kijs\n",
    ")"
   ]
  },
  {
   "cell_type": "code",
   "execution_count": 44,
   "metadata": {},
   "outputs": [
    {
     "data": {
      "text/plain": [
       "False"
      ]
     },
     "execution_count": 44,
     "metadata": {},
     "output_type": "execute_result"
    }
   ],
   "source": [
    "P = convert_bar_to_Pa(60.8)\n",
    "T = 220\n",
    "\n",
    "result = stability_test(model, P, T, z)\n",
    "\n",
    "result.phase_split"
   ]
  },
  {
   "cell_type": "markdown",
   "metadata": {},
   "source": [
    "The result above must be **False**."
   ]
  },
  {
   "cell_type": "markdown",
   "metadata": {},
   "source": [
    "* Feed composition 2:"
   ]
  },
  {
   "cell_type": "code",
   "execution_count": 45,
   "metadata": {},
   "outputs": [],
   "source": [
    "z = np.array([0.80, 0.20])\n",
    "mixture = Mixture(z, Tcs, Pcs, omegas)\n",
    "model = NichitaPR(\n",
    "    mixture=mixture,\n",
    "    bip=kijs\n",
    ")"
   ]
  },
  {
   "cell_type": "code",
   "execution_count": 46,
   "metadata": {},
   "outputs": [
    {
     "data": {
      "text/plain": [
       "True"
      ]
     },
     "execution_count": 46,
     "metadata": {},
     "output_type": "execute_result"
    }
   ],
   "source": [
    "result = stability_test(model, P, T, z)\n",
    "\n",
    "result.phase_split"
   ]
  },
  {
   "cell_type": "markdown",
   "metadata": {},
   "source": [
    "This should be **True**. Obs.: There is a typo in the paper."
   ]
  },
  {
   "cell_type": "markdown",
   "metadata": {},
   "source": [
    "* Feed composition 3:"
   ]
  },
  {
   "cell_type": "code",
   "execution_count": 47,
   "metadata": {},
   "outputs": [],
   "source": [
    "z = np.array([0.70, 0.30])\n",
    "mixture = Mixture(z, Tcs, Pcs, omegas)\n",
    "model = NichitaPR(\n",
    "    mixture=mixture,\n",
    "    bip=kijs\n",
    ")"
   ]
  },
  {
   "cell_type": "code",
   "execution_count": 48,
   "metadata": {},
   "outputs": [
    {
     "data": {
      "text/plain": [
       "True"
      ]
     },
     "execution_count": 48,
     "metadata": {},
     "output_type": "execute_result"
    }
   ],
   "source": [
    "result = stability_test(model, P, T, z)\n",
    "\n",
    "result.phase_split"
   ]
  },
  {
   "cell_type": "markdown",
   "metadata": {},
   "source": [
    "The result above must be **True**."
   ]
  },
  {
   "cell_type": "markdown",
   "metadata": {},
   "source": [
    "* Feed composition 4:"
   ]
  },
  {
   "cell_type": "code",
   "execution_count": 49,
   "metadata": {},
   "outputs": [],
   "source": [
    "z = np.array([0.57, 0.43])\n",
    "mixture = Mixture(z, Tcs, Pcs, omegas)\n",
    "model = NichitaPR(\n",
    "    mixture=mixture,\n",
    "    bip=kijs\n",
    ")"
   ]
  },
  {
   "cell_type": "code",
   "execution_count": 50,
   "metadata": {},
   "outputs": [
    {
     "data": {
      "text/plain": [
       "True"
      ]
     },
     "execution_count": 50,
     "metadata": {},
     "output_type": "execute_result"
    }
   ],
   "source": [
    "result = stability_test(model, P, T, z)\n",
    "\n",
    "result.phase_split"
   ]
  },
  {
   "cell_type": "markdown",
   "metadata": {},
   "source": [
    "The result above should be **True**."
   ]
  },
  {
   "cell_type": "markdown",
   "metadata": {},
   "source": [
    "* Feed composition 5:"
   ]
  },
  {
   "cell_type": "code",
   "execution_count": 51,
   "metadata": {},
   "outputs": [],
   "source": [
    "z = np.array([0.40, 0.60])\n",
    "mixture = Mixture(z, Tcs, Pcs, omegas)\n",
    "model = NichitaPR(\n",
    "    mixture=mixture,\n",
    "    bip=kijs\n",
    ")"
   ]
  },
  {
   "cell_type": "code",
   "execution_count": 52,
   "metadata": {},
   "outputs": [
    {
     "data": {
      "text/plain": [
       "False"
      ]
     },
     "execution_count": 52,
     "metadata": {},
     "output_type": "execute_result"
    }
   ],
   "source": [
    "result = stability_test(model, P, T, z)\n",
    "\n",
    "result.phase_split"
   ]
  },
  {
   "cell_type": "markdown",
   "metadata": {},
   "source": [
    "The result above must be **False**."
   ]
  },
  {
   "cell_type": "markdown",
   "metadata": {},
   "source": [
    "## Problem 5"
   ]
  },
  {
   "cell_type": "code",
   "execution_count": 53,
   "metadata": {},
   "outputs": [],
   "source": [
    "methane = Chemical('methane')\n",
    "ethane = Chemical('ethane')\n",
    "nitrogen = Chemical('nitrogen')"
   ]
  },
  {
   "cell_type": "markdown",
   "metadata": {},
   "source": [
    "* Feed composition 1:"
   ]
  },
  {
   "cell_type": "code",
   "execution_count": 54,
   "metadata": {},
   "outputs": [],
   "source": [
    "z = np.array([0.10, 0.60, 0.30])\n",
    "omegas = np.array([methane.omega, ethane.omega, nitrogen.omega])\n",
    "Tcs = np.array([methane.Tc, ethane.Tc, nitrogen.Tc])\n",
    "Pcs = np.array([methane.Pc, ethane.Pc, nitrogen.Pc])\n",
    "mixture = Mixture(z, Tcs, Pcs, omegas)\n",
    "kijs = np.array([\n",
    "    [0.000, 0.021, 0.038],\n",
    "    [0.021, 0.000, 0.080],\n",
    "    [0.038, 0.080, 0.000]\n",
    "])\n",
    "model = NichitaPR(\n",
    "    mixture=mixture,\n",
    "    bip=kijs\n",
    ")"
   ]
  },
  {
   "cell_type": "code",
   "execution_count": 55,
   "metadata": {},
   "outputs": [
    {
     "data": {
      "text/plain": [
       "True"
      ]
     },
     "execution_count": 55,
     "metadata": {},
     "output_type": "execute_result"
    }
   ],
   "source": [
    "P = 7.6e6\n",
    "T = 270\n",
    "\n",
    "result = stability_test(model, P, T, z)\n",
    "\n",
    "result.phase_split"
   ]
  },
  {
   "cell_type": "markdown",
   "metadata": {},
   "source": [
    "The result above must be **True**."
   ]
  },
  {
   "cell_type": "markdown",
   "metadata": {},
   "source": [
    "* Feed composition 2:"
   ]
  },
  {
   "cell_type": "code",
   "execution_count": 56,
   "metadata": {},
   "outputs": [],
   "source": [
    "z = np.array([0.30, 0.55, 0.15])\n",
    "mixture = Mixture(z, Tcs, Pcs, omegas)\n",
    "model = NichitaPR(\n",
    "    mixture=mixture,\n",
    "    bip=kijs\n",
    ")"
   ]
  },
  {
   "cell_type": "code",
   "execution_count": 57,
   "metadata": {},
   "outputs": [
    {
     "data": {
      "text/plain": [
       "True"
      ]
     },
     "execution_count": 57,
     "metadata": {},
     "output_type": "execute_result"
    }
   ],
   "source": [
    "result = stability_test(model, P, T, z)\n",
    "\n",
    "result.phase_split"
   ]
  },
  {
   "cell_type": "markdown",
   "metadata": {},
   "source": [
    "The result above must be **True**."
   ]
  },
  {
   "cell_type": "markdown",
   "metadata": {},
   "source": [
    "* Feed composition 3:"
   ]
  },
  {
   "cell_type": "code",
   "execution_count": 58,
   "metadata": {},
   "outputs": [],
   "source": [
    "z = np.array([0.38, 0.54, 0.08])\n",
    "mixture = Mixture(z, Tcs, Pcs, omegas)\n",
    "model = NichitaPR(\n",
    "    mixture=mixture,\n",
    "    bip=kijs\n",
    ")"
   ]
  },
  {
   "cell_type": "code",
   "execution_count": 59,
   "metadata": {},
   "outputs": [
    {
     "data": {
      "text/plain": [
       "False"
      ]
     },
     "execution_count": 59,
     "metadata": {},
     "output_type": "execute_result"
    }
   ],
   "source": [
    "result = stability_test(model, P, T, z)\n",
    "\n",
    "result.phase_split"
   ]
  },
  {
   "cell_type": "markdown",
   "metadata": {},
   "source": [
    "The result above must be **False**."
   ]
  },
  {
   "cell_type": "markdown",
   "metadata": {},
   "source": [
    "* Feed composition 4:"
   ]
  },
  {
   "cell_type": "code",
   "execution_count": 60,
   "metadata": {},
   "outputs": [],
   "source": [
    "z = np.array([0.05, 0.90, 0.05])\n",
    "mixture = Mixture(z, Tcs, Pcs, omegas)\n",
    "model = NichitaPR(\n",
    "    mixture=mixture,\n",
    "    bip=kijs\n",
    ")"
   ]
  },
  {
   "cell_type": "code",
   "execution_count": 61,
   "metadata": {},
   "outputs": [
    {
     "data": {
      "text/plain": [
       "False"
      ]
     },
     "execution_count": 61,
     "metadata": {},
     "output_type": "execute_result"
    }
   ],
   "source": [
    "result = stability_test(model, P, T, z)\n",
    "\n",
    "result.phase_split"
   ]
  },
  {
   "cell_type": "markdown",
   "metadata": {},
   "source": [
    "The result above must be **False**."
   ]
  }
 ],
 "metadata": {
  "kernelspec": {
   "display_name": "Python 3",
   "language": "python",
   "name": "python3"
  },
  "language_info": {
   "codemirror_mode": {
    "name": "ipython",
    "version": 3
   },
   "file_extension": ".py",
   "mimetype": "text/x-python",
   "name": "python",
   "nbconvert_exporter": "python",
   "pygments_lexer": "ipython3",
   "version": "3.6.7"
  },
  "toc": {
   "base_numbering": 1,
   "nav_menu": {},
   "number_sections": false,
   "sideBar": true,
   "skip_h1_title": false,
   "title_cell": "Table of Contents",
   "title_sidebar": "Contents",
   "toc_cell": false,
   "toc_position": {},
   "toc_section_display": true,
   "toc_window_display": false
  }
 },
 "nbformat": 4,
 "nbformat_minor": 2
}
